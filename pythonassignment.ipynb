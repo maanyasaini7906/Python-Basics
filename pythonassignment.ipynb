{
  "nbformat": 4,
  "nbformat_minor": 0,
  "metadata": {
    "colab": {
      "provenance": []
    },
    "kernelspec": {
      "name": "python3",
      "display_name": "Python 3"
    },
    "language_info": {
      "name": "python"
    }
  },
  "cells": [
    {
      "cell_type": "markdown",
      "source": [
        "***PYTHON*** ***BASICS***"
      ],
      "metadata": {
        "id": "BK3xaBs8tXKf"
      }
    },
    {
      "cell_type": "markdown",
      "source": [
        "    1.) What is Python, and why is it popular?\n",
        "    ->  Python\n",
        "         - high level,interpreted programming language.\n",
        "         - it has large standard libraries(\"battery included\").\n",
        "         - it emphasizes code readability and simplicity.\n",
        "         - Created by Guido Van Rossum,in 1991.\n",
        "      \n",
        "       Why Python?\n",
        "         -simple and easy to read syntax.\n",
        "         -vast ecosystem of libraries.\n",
        "         -great for beginners and also powerful for professionals.\n",
        "         -widely used in fields like:data science,web development.AI/ML,\n",
        "          automation,etc\n",
        "        -strong community support and active development.\n",
        "\n",
        "    2.) What is interpreter in python?\n",
        "    -> It is a program that executes python line by line. It converts high\n",
        "       level code to machine understandable instructions at run time.\n",
        "       Hence,helping in quick testing and debugging.Python uses Cpython as its default interpreter.\n",
        "       Only because of this there is no need of compilation.\n",
        "\n",
        "    3.) What are predefined keywords in python?\n",
        "    -> They are reserved words that have special meaning in python.\n",
        "       They cannot be used as variable name,function name or identifiers.\n",
        "       They define the syntax and structure of python code.\n",
        "       There are 35+ keywords.\n",
        "       eg. if,else,while,for,def,class,return,import,etc.\n",
        "\n",
        "    4.) Can keywords be used as variable names?\n",
        "    -> No,\n",
        "       They are reserved by the language for specific function and structure.\n",
        "       If we use it,it will cause SyntaxError.\n",
        "\n",
        "    5.) What is mutability in Python?\n",
        "    -> Mutability refers to whether an object's value can be changed after\n",
        "      it is created.\n",
        "      Python objects can be:\n",
        "       Mutable           Immutable\n",
        "      -list              -int\n",
        "      -dict              -float\n",
        "      -set               -str\n",
        "    \n",
        "    6.) Why are lists mutable and tuples immutable?\n",
        "    -> List:\n",
        "        -Designed to be flexible and dynamic.\n",
        "        -Allows addition,removal or modification of elements.\n",
        "        -useful for cases where data changes frequently.\n",
        "      Tuples:\n",
        "        -Meant for fixed,constant data.\n",
        "        -ensures data integrity.\n",
        "        -can be used as keys in dictionaries.\n",
        "\n",
        "    7.) Difference between \"==\" and \"is\" .\n",
        "    ->    \"==\"                                    \"is\"\n",
        "       -Checks if values of 2 variables    -Checks if 2 variables refer to\n",
        "        are equal.                          the same object in m/m.\n",
        "       -Comapres content.                  -Compares object identity.\n",
        "       -Can be used with all data types.   -Mostly used for comparison with\n",
        "                                            None or singleton object.\n",
        "    \n",
        "    8.) What are logical operators in python?\n",
        "    -> They are used to combine boolean conditions.\n",
        "       1. \"and\":\n",
        "           Returs true if both are true.\n",
        "       2. \"or\":\n",
        "           Returns true if atleast one condition is true.\n",
        "       3. \"not\":\n",
        "           Negates the boolean value.\n",
        "           It converts True to False and vice versa.\n",
        "\n",
        "    9.) What is type casting in python?\n",
        "    -> It converts one data type to another.\n",
        "       It is also known as type conversion.\n",
        "       It can be implicit or explicit.\n",
        "       Implicit type conversion is done sutomaticalyy by python.\n",
        "       Explicit type conversion is done manually by programmer.\n",
        "\n",
        "    10.) Write difference between implicit and explicit type casting.\n",
        "    ->    Implicit type casting           Explicit type casting\n",
        "       -automatically done by python.   -done manually by the programmer.\n",
        "       -we have less control over the   -we have full control over\n",
        "        conversion.                      conversion.\n",
        "       -It rarely causes any error.     -Can cause error,if not done\n",
        "       -eg. Mixing int with float.        properly.\n",
        "                                        -eg. using int() for conversion.\n",
        "\n",
        "    11.)What is purpose of conditional statement in python?\n",
        "    -> They control the flow of a program based on conditions.\n",
        "       Allows decisions to be made at runtime by checking if certain condition are true or false.\n",
        "       It enables execution of specific blocks of code under certain conditions and skipping others.\n",
        "       1. \"if\":\n",
        "          It executes a block of code if condition is true.\n",
        "          eg,\n",
        "          if x>10:\n",
        "             print(\"yes\")\n",
        "       2. \"elif\":\n",
        "          It checks additional condition if the initial 'if' is false.\n",
        "          eg,\n",
        "          if x>10:\n",
        "             print(\"greater\")\n",
        "          elif x==10:\n",
        "             print(\"equal\")\n",
        "       3. \"else\":\n",
        "          It executes a block of code when all previous 'if' and 'elif' are false.\n",
        "          eg,\n",
        "          if x>10:\n",
        "             print(\"greater\")\n",
        "          else:\n",
        "             print(\"not greater\")\n",
        "       Use cases of conditional statements:\n",
        "        - helps in decision making\n",
        "        - controls program flow\n",
        "        - Handling execution\n",
        "\n",
        "    12.) Explain 'elif'.\n",
        "    ->  In this,only the first true condition is executed.\n",
        "        The remaining 'elif' or 'else' blocks are skippe once a condition is match.\n",
        "        If the conditions are false then 'else' will be executed.\n",
        "\n",
        "    13.) Difference between for and while loops.\n",
        "    ->  \"for\":\n",
        "        -used for iterating over sequence(like a list, tuple,string or\n",
        "         range).\n",
        "        -Iterates a fixed number of times based on the length of sequence.\n",
        "        -It is more suitable when the number of iterations is known in\n",
        "         advance.\n",
        "        -syntax:\n",
        "             for item in sequence:\n",
        "                  #code block to execute\n",
        "        \"while\":\n",
        "        -used to execute a block of code as a specified condition is true.\n",
        "        -the number of iterations is not fixed and depends on the\n",
        "         condition.\n",
        "        -more suitable when you donot know how many time the loop will     \n",
        "        run .\n",
        "        -syntax:\n",
        "            while condition:\n",
        "                #code block\n",
        "\n",
        "    14.) Differnce between for and while loop.\n",
        "    ->       \"for\"                       \"while\"  \n",
        "       -loops over a sequence or     -loops while a condition is true.\n",
        "        range.                       -when the no. of iterations is\n",
        "       -when the no. of iteration      unknown.\n",
        "        known,then used.             -executes as long as a condition\n",
        "       -eg,iterating through items     holds true.\n",
        "        in a list or range.          -stops when condition becomes\n",
        "       -stops automatically when       false.\n",
        "        the sequence is exhausted.\n",
        "\n",
        "    15.) Describe a scenario where a while loop is more suitable than a\n",
        "         for loop?\n",
        "    -> Scenario : User input validation.\n",
        "       A while loop is more suitable when you want to continuosly prompt the user for input until they provide valid data,and you don't know how many attempts it will take. The loop will run indefinitely until the condition is met.\n",
        "       eg, you want the user to enter a positive number only.\n",
        "           i=-1\n",
        "           while i<=0\n",
        "                i=float(input(\"enter a positive number\"))\n",
        "                if i<=0:\n",
        "                   print(\"ivalid input\")\n",
        "                   \n"
      ],
      "metadata": {
        "id": "-c9K7T5euIa6"
      }
    },
    {
      "cell_type": "code",
      "source": [
        "print(\"Hello,World!\")"
      ],
      "metadata": {
        "colab": {
          "base_uri": "https://localhost:8080/"
        },
        "id": "yJ37CW4KHlU-",
        "outputId": "b83e2c76-bfd2-4cb1-f4a1-a64fb00f09f1"
      },
      "execution_count": 1,
      "outputs": [
        {
          "output_type": "stream",
          "name": "stdout",
          "text": [
            "Hello,World!\n"
          ]
        }
      ]
    },
    {
      "cell_type": "code",
      "source": [
        "print(\"My name is: MAANYA \")\n",
        "print(\"My age is: 21 \")"
      ],
      "metadata": {
        "colab": {
          "base_uri": "https://localhost:8080/"
        },
        "id": "SGa3Vg18Hxzz",
        "outputId": "9f63f242-4cb0-4041-acea-b9eac61afc00"
      },
      "execution_count": 2,
      "outputs": [
        {
          "output_type": "stream",
          "name": "stdout",
          "text": [
            "My name is: MAANYA \n",
            "My age is: 21 \n"
          ]
        }
      ]
    },
    {
      "cell_type": "code",
      "source": [
        "import keyword\n",
        "print(keyword.kwlist)"
      ],
      "metadata": {
        "colab": {
          "base_uri": "https://localhost:8080/"
        },
        "id": "a9AFWS8pH2vW",
        "outputId": "1a50d4ec-0c9c-4e7f-c535-a872b4dc9a32"
      },
      "execution_count": 3,
      "outputs": [
        {
          "output_type": "stream",
          "name": "stdout",
          "text": [
            "['False', 'None', 'True', 'and', 'as', 'assert', 'async', 'await', 'break', 'class', 'continue', 'def', 'del', 'elif', 'else', 'except', 'finally', 'for', 'from', 'global', 'if', 'import', 'in', 'is', 'lambda', 'nonlocal', 'not', 'or', 'pass', 'raise', 'return', 'try', 'while', 'with', 'yield']\n"
          ]
        }
      ]
    },
    {
      "cell_type": "code",
      "source": [
        "import keyword\n",
        "n=input(\"write the word: \")\n",
        "if n in keyword.kwlist:\n",
        "    print(\"Yes,it is\")\n",
        "else:\n",
        "    print(\"No,its not\")"
      ],
      "metadata": {
        "colab": {
          "base_uri": "https://localhost:8080/"
        },
        "id": "CXzF0b4AH4yl",
        "outputId": "13241ce9-a190-40b3-b4c8-5e37df9c6da2"
      },
      "execution_count": 4,
      "outputs": [
        {
          "output_type": "stream",
          "name": "stdout",
          "text": [
            "write the word:  import\n",
            "No,its not\n"
          ]
        }
      ]
    },
    {
      "cell_type": "code",
      "source": [
        "mylist=[10,20,30,40]\n",
        "print(\"Original list:\",mylist)\n",
        "mylist[0]=00\n",
        "print(\"New list:\",mylist)"
      ],
      "metadata": {
        "colab": {
          "base_uri": "https://localhost:8080/"
        },
        "id": "XzI_ueNIH7s-",
        "outputId": "6147a4b8-bd58-48f9-a017-9a0241b95227"
      },
      "execution_count": 5,
      "outputs": [
        {
          "output_type": "stream",
          "name": "stdout",
          "text": [
            "Original list: [10, 20, 30, 40]\n",
            "New list: [0, 20, 30, 40]\n"
          ]
        }
      ]
    },
    {
      "cell_type": "code",
      "source": [
        "mytuple=(10,20,30)\n",
        "mytuple[1]=40\n",
        "print(\"new tuple\",mytuple)"
      ],
      "metadata": {
        "colab": {
          "base_uri": "https://localhost:8080/",
          "height": 176
        },
        "id": "LbZO3Cv3IAba",
        "outputId": "5eddad0b-23ed-48b8-ac04-4e3e4288d93c"
      },
      "execution_count": 6,
      "outputs": [
        {
          "output_type": "error",
          "ename": "TypeError",
          "evalue": "'tuple' object does not support item assignment",
          "traceback": [
            "\u001b[0;31m---------------------------------------------------------------------------\u001b[0m",
            "\u001b[0;31mTypeError\u001b[0m                                 Traceback (most recent call last)",
            "\u001b[0;32m<ipython-input-6-e5b15f0d3ccf>\u001b[0m in \u001b[0;36m<cell line: 0>\u001b[0;34m()\u001b[0m\n\u001b[1;32m      1\u001b[0m \u001b[0mmytuple\u001b[0m\u001b[0;34m=\u001b[0m\u001b[0;34m(\u001b[0m\u001b[0;36m10\u001b[0m\u001b[0;34m,\u001b[0m\u001b[0;36m20\u001b[0m\u001b[0;34m,\u001b[0m\u001b[0;36m30\u001b[0m\u001b[0;34m)\u001b[0m\u001b[0;34m\u001b[0m\u001b[0;34m\u001b[0m\u001b[0m\n\u001b[0;32m----> 2\u001b[0;31m \u001b[0mmytuple\u001b[0m\u001b[0;34m[\u001b[0m\u001b[0;36m1\u001b[0m\u001b[0;34m]\u001b[0m\u001b[0;34m=\u001b[0m\u001b[0;36m40\u001b[0m\u001b[0;34m\u001b[0m\u001b[0;34m\u001b[0m\u001b[0m\n\u001b[0m\u001b[1;32m      3\u001b[0m \u001b[0mprint\u001b[0m\u001b[0;34m(\u001b[0m\u001b[0;34m\"new tuple\"\u001b[0m\u001b[0;34m,\u001b[0m\u001b[0mmytuple\u001b[0m\u001b[0;34m)\u001b[0m\u001b[0;34m\u001b[0m\u001b[0;34m\u001b[0m\u001b[0m\n",
            "\u001b[0;31mTypeError\u001b[0m: 'tuple' object does not support item assignment"
          ]
        }
      ]
    },
    {
      "cell_type": "code",
      "source": [
        "def modify_args(n,mylist):\n",
        "    n+=10  #immutable\n",
        "    mylist.append(99) #mutable\n",
        "    print(\"inside function number: \",n)\n",
        "    print(\"inside function list:\",mylist)\n",
        "a=55\n",
        "b=[22,44,77]\n",
        "modify_args(a,b)\n",
        "print(\"outside function number: \",a)\n",
        "print(\"outside function list:\",b)"
      ],
      "metadata": {
        "colab": {
          "base_uri": "https://localhost:8080/"
        },
        "id": "sblP8RNOICbx",
        "outputId": "cf1ac60f-620a-47c2-bb3f-90378df3292c"
      },
      "execution_count": 7,
      "outputs": [
        {
          "output_type": "stream",
          "name": "stdout",
          "text": [
            "inside function number:  65\n",
            "inside function list: [22, 44, 77, 99]\n",
            "outside function number:  55\n",
            "outside function list: [22, 44, 77, 99]\n"
          ]
        }
      ]
    },
    {
      "cell_type": "code",
      "source": [
        "a=int(input(\"Enter first no. :\"))\n",
        "b=int(input(\"Enter second no. :\"))\n",
        "print(\"addition:\", a+b)\n",
        "print(\"subtraction:\", a-b)\n",
        "print(\"multiplication:\", a*b)\n",
        "if b!=0:\n",
        "    print(\"division\",a/b)\n",
        "else:\n",
        "    print(\"can not be divided\")"
      ],
      "metadata": {
        "colab": {
          "base_uri": "https://localhost:8080/"
        },
        "id": "O9FxzXBKIFWa",
        "outputId": "ed6cca2c-306f-44dd-8913-d2568fba2f60"
      },
      "execution_count": 8,
      "outputs": [
        {
          "output_type": "stream",
          "name": "stdout",
          "text": [
            "Enter first no. :2\n",
            "Enter second no. :4\n",
            "addition: 6\n",
            "subtraction: -2\n",
            "multiplication: 8\n",
            "division 0.5\n"
          ]
        }
      ]
    },
    {
      "cell_type": "code",
      "source": [
        "a=input(\"enter T or F :\") == \"True\"\n",
        "b=input(\"enter T or F :\") == \"True\"\n",
        "print (\"a and b:\" ,a and b)\n",
        "print (\"a or b:\" ,a or b)\n",
        "print (\"not a:\" ,a )\n",
        "print (\"not b:\" , b)"
      ],
      "metadata": {
        "colab": {
          "base_uri": "https://localhost:8080/"
        },
        "id": "UvA5fXYsIIIy",
        "outputId": "eecdf4c9-2d68-4cea-b420-8a7ccb6a8098"
      },
      "execution_count": 9,
      "outputs": [
        {
          "output_type": "stream",
          "name": "stdout",
          "text": [
            "enter T or F :True\n",
            "enter T or F :False\n",
            "a and b: False\n",
            "a or b: True\n",
            "not a: True\n",
            "not b: False\n"
          ]
        }
      ]
    },
    {
      "cell_type": "code",
      "source": [
        "s=input(\"enter a number:\")\n",
        "print(\"to integer:\",int(s))\n",
        "print(\"to float:\",float(s))\n",
        "print(\"to boolean:\",bool(s))"
      ],
      "metadata": {
        "colab": {
          "base_uri": "https://localhost:8080/"
        },
        "id": "Ukn3feppILi9",
        "outputId": "644ba41c-6aa9-435b-e6ad-e49523634e34"
      },
      "execution_count": 10,
      "outputs": [
        {
          "output_type": "stream",
          "name": "stdout",
          "text": [
            "enter a number:45\n",
            "to integer: 45\n",
            "to float: 45.0\n",
            "to boolean: True\n"
          ]
        }
      ]
    },
    {
      "cell_type": "code",
      "source": [
        "mylist=['10','20','30','50']\n",
        "newlist=[int(x) for x in mylist]\n",
        "print(\"original :\",mylist)\n",
        "print(\"new : \",newlist)"
      ],
      "metadata": {
        "colab": {
          "base_uri": "https://localhost:8080/"
        },
        "id": "lJSoSuPTIQHc",
        "outputId": "9f8bdbf9-3978-48e7-e782-4e69445459c8"
      },
      "execution_count": 11,
      "outputs": [
        {
          "output_type": "stream",
          "name": "stdout",
          "text": [
            "original : ['10', '20', '30', '50']\n",
            "new :  [10, 20, 30, 50]\n"
          ]
        }
      ]
    },
    {
      "cell_type": "code",
      "source": [
        "a=int(input(\"Enter a number : \"))\n",
        "if a>0:\n",
        "    print(\"positive\")\n",
        "elif a<0:\n",
        "    print(\"negative\")\n",
        "else:\n",
        "    print(\"it is zero\")"
      ],
      "metadata": {
        "colab": {
          "base_uri": "https://localhost:8080/"
        },
        "id": "fEFSmf2EITLk",
        "outputId": "22245485-27c6-4d95-f42c-e2e3b9783997"
      },
      "execution_count": 12,
      "outputs": [
        {
          "output_type": "stream",
          "name": "stdout",
          "text": [
            "Enter a number : -57\n",
            "negative\n"
          ]
        }
      ]
    },
    {
      "cell_type": "code",
      "source": [
        "for i in range(1,11):\n",
        "    print(i,end=\" \")"
      ],
      "metadata": {
        "colab": {
          "base_uri": "https://localhost:8080/"
        },
        "id": "Ijs_3PC9IVUP",
        "outputId": "844b8996-2c16-4d65-c93a-6d80996cb580"
      },
      "execution_count": 13,
      "outputs": [
        {
          "output_type": "stream",
          "name": "stdout",
          "text": [
            "1 2 3 4 5 6 7 8 9 10 "
          ]
        }
      ]
    },
    {
      "cell_type": "code",
      "source": [
        "s=0\n",
        "for i in range(1,51):\n",
        "    if i%2==0:\n",
        "        s+=i\n",
        "print(\"sum :\",s)\n"
      ],
      "metadata": {
        "colab": {
          "base_uri": "https://localhost:8080/"
        },
        "id": "7cIlMTSXIY5l",
        "outputId": "a5aaa0a4-c8f4-4091-d9b1-ac1a226204fa"
      },
      "execution_count": 14,
      "outputs": [
        {
          "output_type": "stream",
          "name": "stdout",
          "text": [
            "sum : 650\n"
          ]
        }
      ]
    },
    {
      "cell_type": "code",
      "source": [
        "s=\"maanya\"\n",
        "n=\"\"\n",
        "l=len(s)\n",
        "i=l-1\n",
        "while i>=0:\n",
        "   n+=s[i]\n",
        "   i-=1\n",
        "print(n)\n",
        ""
      ],
      "metadata": {
        "colab": {
          "base_uri": "https://localhost:8080/"
        },
        "id": "eo8_yUQkIbRF",
        "outputId": "cda7de6c-d2d4-40b5-ce15-a5f4183c92b7"
      },
      "execution_count": 15,
      "outputs": [
        {
          "output_type": "stream",
          "name": "stdout",
          "text": [
            "aynaam\n"
          ]
        }
      ]
    },
    {
      "cell_type": "code",
      "source": [
        "num=int(input(\"Enter a number:\"))\n",
        "i=1\n",
        "f=1\n",
        "while i<=num:\n",
        "    f*=i\n",
        "    i+=1\n",
        "print(\"factorial :\",f)"
      ],
      "metadata": {
        "colab": {
          "base_uri": "https://localhost:8080/"
        },
        "id": "NqTt6y19IdWt",
        "outputId": "02e91ed7-047a-4404-c350-9d7b0e417f8f"
      },
      "execution_count": 16,
      "outputs": [
        {
          "output_type": "stream",
          "name": "stdout",
          "text": [
            "Enter a number:5\n",
            "factorial : 120\n"
          ]
        }
      ]
    },
    {
      "cell_type": "code",
      "source": [],
      "metadata": {
        "id": "xSuiSL5-Ife_"
      },
      "execution_count": null,
      "outputs": []
    }
  ]
}